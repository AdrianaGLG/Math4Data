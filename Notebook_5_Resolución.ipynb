{
  "nbformat": 4,
  "nbformat_minor": 0,
  "metadata": {
    "kernelspec": {
      "display_name": "Python 3",
      "language": "python",
      "name": "python3"
    },
    "language_info": {
      "codemirror_mode": {
        "name": "ipython",
        "version": 3
      },
      "file_extension": ".py",
      "mimetype": "text/x-python",
      "name": "python",
      "nbconvert_exporter": "python",
      "pygments_lexer": "ipython3",
      "version": "3.7.3"
    },
    "colab": {
      "provenance": [],
      "include_colab_link": true
    }
  },
  "cells": [
    {
      "cell_type": "markdown",
      "metadata": {
        "id": "view-in-github",
        "colab_type": "text"
      },
      "source": [
        "<a href=\"https://colab.research.google.com/github/AdrianaGLG/Math4Data/blob/main/Notebook_5_Resoluci%C3%B3n.ipynb\" target=\"_parent\"><img src=\"https://colab.research.google.com/assets/colab-badge.svg\" alt=\"Open In Colab\"/></a>"
      ]
    },
    {
      "cell_type": "code",
      "source": [],
      "metadata": {
        "id": "b60Yp4_w8v0Z"
      },
      "execution_count": null,
      "outputs": []
    },
    {
      "cell_type": "markdown",
      "metadata": {
        "id": "Gp2WddtV9IwG"
      },
      "source": [
        "# Programa Ingenias+ Data Science"
      ]
    },
    {
      "cell_type": "markdown",
      "metadata": {
        "id": "H4M1yVbf9IwH"
      },
      "source": [
        "Como dijimos en clases anteriores, Python tiene implementadas muchas librerias para poder trabajar con datos. En la clase de hoy trabajaremos con una de ellas: `Numpy`."
      ]
    },
    {
      "cell_type": "markdown",
      "metadata": {
        "id": "GdTT8WeL9IwI"
      },
      "source": [
        "Antes de comenzar, vamos a hablar un poco de esta libreria o modulo.\n",
        "\n",
        "**Numpy** es una librería optimizada para realizar cálculos numéricos con vectores y matrices. A diferencia de otros lenguajes de programación, Python no posee en su estructura central la figura de matrices. Eso quiere decir que para poder trabajar con esta estructura de datos deberiamos trabajar con listas de listas. NumPy introduce el concepto de arrays o matrices."
      ]
    },
    {
      "cell_type": "markdown",
      "metadata": {
        "id": "qWkq3EHK9IwK"
      },
      "source": [
        "Al ser de código abierto, `numpy` posee una documentación muy amplia que es **SIEMPRE RECOMENDABLE** consultar."
      ]
    },
    {
      "cell_type": "markdown",
      "metadata": {
        "id": "nxe3KLUO9IwL"
      },
      "source": [
        "- [Documentacion NumPy](https://devdocs.io/numpy/)"
      ]
    },
    {
      "cell_type": "markdown",
      "metadata": {
        "id": "l1Ay3nSs9IwN"
      },
      "source": [
        "## Clase 4: Introduccion a NumPy"
      ]
    },
    {
      "cell_type": "markdown",
      "source": [
        "1+2"
      ],
      "metadata": {
        "id": "6SibRuhr7K_s"
      }
    },
    {
      "cell_type": "code",
      "source": [
        "import pandas as pd\n",
        "import numpy as np\n",
        "#importar librerias"
      ],
      "metadata": {
        "id": "Q03Y2yK477ob"
      },
      "execution_count": 3,
      "outputs": []
    },
    {
      "cell_type": "code",
      "source": [
        "#no funciona\n"
      ],
      "metadata": {
        "id": "_mWGymlN9L_4"
      },
      "execution_count": null,
      "outputs": []
    },
    {
      "cell_type": "code",
      "source": [
        "#a\n",
        "#b\n",
        "'''\n",
        "Crear un arreglo de ceros de longitud 12\n",
        "Crear un arreglo de longitud 10 con ceros en todas sus posiciones y un 10 en la posición número 5\n",
        "Crear un arreglo que tenga los números del 10 al 49\n",
        "Crear una arreglo 2d de shape (3, 3) que tenga los números del 0 al 8\n",
        "Crear un arreglo de números aleatorios de longitud 100 y obtener su media y varianza\n",
        "Calcular la media de un arreglo usando np.sum\n",
        "Calcular la varianza de un arreglo usando np.sum y np.mean\n",
        "Crear un array de números aleatorios usando np.random.randn.\n",
        "'''\n",
        "variable = 1+2\n",
        "variable"
      ],
      "metadata": {
        "colab": {
          "base_uri": "https://localhost:8080/"
        },
        "id": "i9rAXUuK9P9-",
        "outputId": "fde9bb71-24ca-4e6d-904c-bc9f2a87dfce"
      },
      "execution_count": 8,
      "outputs": [
        {
          "output_type": "execute_result",
          "data": {
            "text/plain": [
              "3"
            ]
          },
          "metadata": {},
          "execution_count": 8
        }
      ]
    },
    {
      "cell_type": "markdown",
      "metadata": {
        "id": "X03mviQS9IyL"
      },
      "source": [
        "# Ejercicios\n",
        "\n",
        "1. Crear un arreglo de ceros de longitud 12\n",
        "2. Crear un arreglo de longitud 10 con ceros en todas sus posiciones y un 10 en la posición número 5\n",
        "3. Crear un arreglo que tenga los números del 10 al 49\n",
        "4. Crear una arreglo 2d de shape (3, 3) que tenga los números del 0 al 8\n",
        "5. Crear un arreglo de números aleatorios de longitud 100 y obtener su media y varianza\n",
        "6. Calcular la media de un arreglo usando np.sum\n",
        "7. Calcular la varianza de un arreglo usando np.sum y np.mean\n",
        "8. Crear un array de números aleatorios usando np.random.randn.\n"
      ]
    },
    {
      "cell_type": "markdown",
      "source": [
        "lo que sea"
      ],
      "metadata": {
        "id": "KkkHpvuEEVvR"
      }
    },
    {
      "cell_type": "code",
      "source": [
        "# comentar\n",
        "1+2"
      ],
      "metadata": {
        "id": "J4Pz2z6WEXY2"
      },
      "execution_count": null,
      "outputs": []
    },
    {
      "cell_type": "markdown",
      "source": [
        "------\n",
        "------\n",
        "# titulo\n",
        "consigna"
      ],
      "metadata": {
        "id": "51JqOnJxEamP"
      }
    },
    {
      "cell_type": "code",
      "source": [],
      "metadata": {
        "id": "-_kVwcXyEfHh"
      },
      "execution_count": null,
      "outputs": []
    },
    {
      "cell_type": "markdown",
      "source": [
        "-------------------\n",
        "------------------\n",
        "# EJERCICIO 1\n",
        "1. Crear un arreglo de ceros de longitud 12"
      ],
      "metadata": {
        "id": "7BlSqN7mGYNI"
      }
    },
    {
      "cell_type": "code",
      "metadata": {
        "id": "G0NMKT609IyM",
        "colab": {
          "base_uri": "https://localhost:8080/"
        },
        "outputId": "9189fc63-aa5b-4e9a-d73e-34438fb33c7a"
      },
      "source": [
        "# 1. Crear un arreglo de ceros de longitud 12\n",
        "\n",
        "#import numpy as np\n",
        "arreglo_ej_1 = np.zeros(5)\n",
        "#variable = np.zeros(cantidad q querramos) # arreglo de ceros con la cantidad deseada\n",
        "print(arreglo_ej_1)\n"
      ],
      "execution_count": 16,
      "outputs": [
        {
          "output_type": "stream",
          "name": "stdout",
          "text": [
            "[0. 0. 0. 0. 0.]\n"
          ]
        }
      ]
    },
    {
      "cell_type": "code",
      "source": [
        "# Alternativa\n",
        "arreglo = [1] * 12\n",
        "print(arreglo)"
      ],
      "metadata": {
        "colab": {
          "base_uri": "https://localhost:8080/"
        },
        "id": "1_pB-jnCETR8",
        "outputId": "28f94337-e0cf-4a28-8242-91d6a49d7d33"
      },
      "execution_count": 9,
      "outputs": [
        {
          "output_type": "stream",
          "name": "stdout",
          "text": [
            "[1, 1, 1, 1, 1, 1, 1, 1, 1, 1, 1, 1]\n"
          ]
        }
      ]
    },
    {
      "cell_type": "code",
      "source": [
        "# Alternativa\n",
        "arreglo2 = [0 for _ in range(12)]\n",
        "print(arreglo2)"
      ],
      "metadata": {
        "colab": {
          "base_uri": "https://localhost:8080/"
        },
        "id": "0nVUaXiqEdZS",
        "outputId": "a02ab071-ba5f-4622-aeec-44dab8ad3b45"
      },
      "execution_count": null,
      "outputs": [
        {
          "output_type": "stream",
          "name": "stdout",
          "text": [
            "[0, 0, 0, 0, 0, 0, 0, 0, 0, 0, 0, 0]\n"
          ]
        }
      ]
    },
    {
      "cell_type": "code",
      "source": [
        "arreglo3 = []\n",
        "for _ in range(12):\n",
        "    arreglo3.append(0)\n",
        "print (arreglo3)"
      ],
      "metadata": {
        "colab": {
          "base_uri": "https://localhost:8080/"
        },
        "id": "FZYItpCqEyvg",
        "outputId": "5df99296-ff20-494b-81fc-08f7d77b70f1"
      },
      "execution_count": null,
      "outputs": [
        {
          "output_type": "stream",
          "name": "stdout",
          "text": [
            "[0, 0, 0, 0, 0, 0, 0, 0, 0, 0, 0, 0]\n"
          ]
        }
      ]
    },
    {
      "cell_type": "code",
      "source": [
        "from itertools import repeat #esto no lo vimos\n",
        "arreglo4 = list(repeat(0, 12))\n",
        "print (arreglo4)"
      ],
      "metadata": {
        "colab": {
          "base_uri": "https://localhost:8080/"
        },
        "id": "jSfCFD4BFC05",
        "outputId": "7fcdc888-382e-4908-c73d-bc0425852bd7"
      },
      "execution_count": null,
      "outputs": [
        {
          "output_type": "stream",
          "name": "stdout",
          "text": [
            "[0, 0, 0, 0, 0, 0, 0, 0, 0, 0, 0, 0]\n"
          ]
        }
      ]
    },
    {
      "cell_type": "code",
      "source": [
        "import array #  biblioteca de Python que nos permite crear arreglos de datos homogéneos\n",
        "\n",
        "# Crear un arreglo de ceros de tipo float ('f')\n",
        "arreglo6 = array.array('f', [0] * 12)\n",
        "\n",
        "#enteros de 32 bits con longitud 12\n",
        "#arreglo_enteros = array.array('i', [0] * 12)\n",
        "\n",
        "# arreglo de doble precisión de 64 bits con longitud 12\n",
        "#arreglo_doble_precision = array.array('d', [0] * 12)\n",
        "\n",
        "print (arreglo6)"
      ],
      "metadata": {
        "colab": {
          "base_uri": "https://localhost:8080/"
        },
        "id": "IqaSONgCE7ui",
        "outputId": "3bbd0a6a-242e-4fba-a20c-d1b1a0ef85f1"
      },
      "execution_count": null,
      "outputs": [
        {
          "output_type": "stream",
          "name": "stdout",
          "text": [
            "array('f', [0.0, 0.0, 0.0, 0.0, 0.0, 0.0, 0.0, 0.0, 0.0, 0.0, 0.0, 0.0])\n"
          ]
        }
      ]
    },
    {
      "cell_type": "code",
      "source": [
        "type(arreglo6)"
      ],
      "metadata": {
        "colab": {
          "base_uri": "https://localhost:8080/"
        },
        "id": "Fy1tjVxHFYON",
        "outputId": "63dccbbf-b4b1-4927-9d92-4f2c00e23c29"
      },
      "execution_count": null,
      "outputs": [
        {
          "output_type": "execute_result",
          "data": {
            "text/plain": [
              "array.array"
            ]
          },
          "metadata": {},
          "execution_count": 10
        }
      ]
    },
    {
      "cell_type": "markdown",
      "source": [
        "-----------------------------\n",
        "-----------------------------\n",
        "### EJERCICIO 2\n",
        "\n",
        "2. Crear un arreglo de longitud 10 con ceros en todas sus posiciones y un 10 en la posición número 5"
      ],
      "metadata": {
        "id": "jIl056PjGTNr"
      }
    },
    {
      "cell_type": "code",
      "source": [
        "# crear una lista\n",
        "arregloa = [0] * 10\n",
        "arreglob = arregloa\n",
        "arreglob[4] = 10 # posicion 5 = indice 4\n",
        "\n",
        "print(arreglob)"
      ],
      "metadata": {
        "colab": {
          "base_uri": "https://localhost:8080/"
        },
        "id": "M_s37a2BGnl5",
        "outputId": "d9540c2d-3910-44ea-e4a4-2e9f57307f95"
      },
      "execution_count": 28,
      "outputs": [
        {
          "output_type": "stream",
          "name": "stdout",
          "text": [
            "[0, 0, 0, 0, 10, 0, 0, 0, 0, 0]\n"
          ]
        }
      ]
    },
    {
      "cell_type": "code",
      "source": [
        "# Usar Numpy\n",
        "#import numpy as np\n",
        "\n",
        "arreglo2 = np.zeros(10)\n",
        "arreglo2[4] = 10\n",
        "arreglo2[5] = 20\n",
        "#variable [numero de posicion]= valor que quiero agregar\n",
        "print(arreglo2)"
      ],
      "metadata": {
        "colab": {
          "base_uri": "https://localhost:8080/"
        },
        "id": "GAI-RHPXG3Zt",
        "outputId": "29243617-0fd6-4d53-f2e1-0a28f536d3eb"
      },
      "execution_count": 29,
      "outputs": [
        {
          "output_type": "stream",
          "name": "stdout",
          "text": [
            "[ 0.  0.  0.  0. 10. 20.  0.  0.  0.  0.]\n"
          ]
        }
      ]
    },
    {
      "cell_type": "code",
      "source": [
        "# Libreria array\n",
        "import array\n",
        "\n",
        "arreglo3 = array.array('f', [0] * 10) # arreglo de tipo floats\n",
        "arreglo3[4] = 10\n",
        "\n",
        "print(arreglo3)"
      ],
      "metadata": {
        "colab": {
          "base_uri": "https://localhost:8080/"
        },
        "id": "1lBJJQhPHGFB",
        "outputId": "32fdc2fc-e497-44e6-9e8c-3a962182e71f"
      },
      "execution_count": null,
      "outputs": [
        {
          "output_type": "stream",
          "name": "stdout",
          "text": [
            "array('f', [0.0, 0.0, 0.0, 0.0, 10.0, 0.0, 0.0, 0.0, 0.0, 0.0])\n"
          ]
        }
      ]
    },
    {
      "cell_type": "markdown",
      "source": [
        "-----------\n",
        "-----------\n",
        "### EJERCICIO 3\n",
        "\n",
        "3. Crear un arreglo que tenga los números del 10 al 49"
      ],
      "metadata": {
        "id": "DovixRsCHSNo"
      }
    },
    {
      "cell_type": "code",
      "source": [
        "# Listas\n",
        "arreglo = list(range(10, 50))\n",
        "print(arreglo)"
      ],
      "metadata": {
        "colab": {
          "base_uri": "https://localhost:8080/"
        },
        "id": "77df-OlgHeiK",
        "outputId": "205a0d9f-13b4-4283-ca61-963feb1422ad"
      },
      "execution_count": null,
      "outputs": [
        {
          "output_type": "stream",
          "name": "stdout",
          "text": [
            "[10, 11, 12, 13, 14, 15, 16, 17, 18, 19, 20, 21, 22, 23, 24, 25, 26, 27, 28, 29, 30, 31, 32, 33, 34, 35, 36, 37, 38, 39, 40, 41, 42, 43, 44, 45, 46, 47, 48, 49]\n"
          ]
        }
      ]
    },
    {
      "cell_type": "code",
      "source": [
        "# Usando Numpy\n",
        "#import numpy as np\n",
        "\n",
        "arreglo_ej_3 = np.arange(10, 14)\n",
        "print(arreglo_ej_3)"
      ],
      "metadata": {
        "colab": {
          "base_uri": "https://localhost:8080/"
        },
        "id": "ROgZYc0lHlRJ",
        "outputId": "4e16a182-c07a-4624-c97a-3a45cb77365d"
      },
      "execution_count": 31,
      "outputs": [
        {
          "output_type": "stream",
          "name": "stdout",
          "text": [
            "[10 11 12 13]\n"
          ]
        }
      ]
    },
    {
      "cell_type": "code",
      "source": [
        "# Usando array\n",
        "import array\n",
        "\n",
        "arreglo2 = array.array('i', range(10, 50))\n",
        "print(arreglo2)\n"
      ],
      "metadata": {
        "colab": {
          "base_uri": "https://localhost:8080/"
        },
        "id": "SCwxk4u2Hty3",
        "outputId": "145d820a-7fb4-4b57-9eb7-a7a8a0536bcb"
      },
      "execution_count": null,
      "outputs": [
        {
          "output_type": "stream",
          "name": "stdout",
          "text": [
            "array('i', [10, 11, 12, 13, 14, 15, 16, 17, 18, 19, 20, 21, 22, 23, 24, 25, 26, 27, 28, 29, 30, 31, 32, 33, 34, 35, 36, 37, 38, 39, 40, 41, 42, 43, 44, 45, 46, 47, 48, 49])\n"
          ]
        }
      ]
    },
    {
      "cell_type": "markdown",
      "source": [
        "-----------\n",
        "-----------\n",
        "### EJERCICIO 4\n",
        "\n",
        "4. Crear una arreglo 2d de shape (3, 3) que tenga los números del 0 al 8"
      ],
      "metadata": {
        "id": "OUwppM18IKo1"
      }
    },
    {
      "cell_type": "code",
      "source": [
        "# Crear una lista\n",
        "arreglo = [[i * 3 + j for j in range(3)] for i in range(3)]\n",
        "print(arreglo)\n",
        "print(type(arreglo))\n",
        "\n",
        "# i * 3 + j - (i: fila, j: columna) en i:0 --> los numeros generados son: 0 * 3 + 0 = 0 // 0 * 3 + 1 = 1 // y 0 * 3 + 2 = 2\n",
        "# en i:1 --> los numeros son: 1 * 3 + 0 = 3, 1 * 3 + 1 = 4, y 1 * 3 + 2 = 5\n",
        "# en i:2 --> 2 * 3 + 0 = 6, 2 * 3 + 1 = 7, y 2 * 3 + 2 = 8"
      ],
      "metadata": {
        "colab": {
          "base_uri": "https://localhost:8080/"
        },
        "id": "pAX5rX3zIWu8",
        "outputId": "2f2e89c1-f927-4d43-89f1-73671bda4684"
      },
      "execution_count": null,
      "outputs": [
        {
          "output_type": "stream",
          "name": "stdout",
          "text": [
            "[[0, 1, 2], [3, 4, 5], [6, 7, 8]]\n",
            "<class 'list'>\n"
          ]
        }
      ]
    },
    {
      "cell_type": "code",
      "source": [
        "# Desde una lista - transformar con np\n",
        "#lista = list(range(9))\n",
        "\n",
        "# transformar usando Np\n",
        "#import numpy as np\n",
        "arreglo_ej_4 = np.arange(0, 8)\n",
        "arreglo = np.array(arreglo_ej_4) # convertir\n",
        "#arreglo_2d = arreglo.reshape(3, 3) # transformar en 3,3\n",
        "\n",
        "#print(arreglo_2d)\n",
        "#print(type(arreglo_2d))"
      ],
      "metadata": {
        "id": "GgS1bZjeJFBf"
      },
      "execution_count": 36,
      "outputs": []
    },
    {
      "cell_type": "code",
      "source": [
        "arreglo"
      ],
      "metadata": {
        "colab": {
          "base_uri": "https://localhost:8080/"
        },
        "id": "0Pueb2kbC4uW",
        "outputId": "cbfed345-7598-4e5c-db91-faa58ca9a99f"
      },
      "execution_count": 37,
      "outputs": [
        {
          "output_type": "execute_result",
          "data": {
            "text/plain": [
              "array([0, 1, 2, 3, 4, 5, 6, 7])"
            ]
          },
          "metadata": {},
          "execution_count": 37
        }
      ]
    },
    {
      "cell_type": "code",
      "source": [
        "# Crear un diccionario - transformar con np\n",
        "diccionario = {\n",
        "    0: [0, 1, 2],\n",
        "    1: [3, 4, 5],\n",
        "    2: [6, 7, 8]\n",
        "}\n",
        "\n",
        "import numpy as np\n",
        "lista_2d = [diccionario[i] for i in range(3)]\n",
        "arreglo_2d = np.array(lista_2d) # transformar\n",
        "print(arreglo_2d)\n"
      ],
      "metadata": {
        "colab": {
          "base_uri": "https://localhost:8080/"
        },
        "id": "FsizoNWLJjgS",
        "outputId": "1049bd52-b8dc-4e72-a768-df38ae43ad0f"
      },
      "execution_count": null,
      "outputs": [
        {
          "output_type": "stream",
          "name": "stdout",
          "text": [
            "[[0 1 2]\n",
            " [3 4 5]\n",
            " [6 7 8]]\n"
          ]
        }
      ]
    },
    {
      "cell_type": "code",
      "source": [
        "# Usar Numpy - lo mas fácil!!\n",
        "import numpy as np\n",
        "\n",
        "arreglo = np.arange(9).reshape(3, 3) # arange: arreglo de 0 a 8 - reshape: organiza\n",
        "print(arreglo)"
      ],
      "metadata": {
        "colab": {
          "base_uri": "https://localhost:8080/"
        },
        "id": "d2QQD56bIeXS",
        "outputId": "3d40ba4c-16ae-4963-da39-b52447e61e58"
      },
      "execution_count": null,
      "outputs": [
        {
          "output_type": "stream",
          "name": "stdout",
          "text": [
            "[[0 1 2]\n",
            " [3 4 5]\n",
            " [6 7 8]]\n"
          ]
        }
      ]
    },
    {
      "cell_type": "code",
      "source": [
        "# Usar array\n",
        "import array\n",
        "\n",
        "arreglo = [array.array('i', range(i * 3, i * 3 + 3)) for i in range(3)]\n",
        "\n",
        "for fila in arreglo:\n",
        "    print(fila)"
      ],
      "metadata": {
        "colab": {
          "base_uri": "https://localhost:8080/"
        },
        "id": "rkCd0b9-I2Bu",
        "outputId": "feb93344-e68f-454e-a9e4-8ee72042eeb7"
      },
      "execution_count": null,
      "outputs": [
        {
          "output_type": "stream",
          "name": "stdout",
          "text": [
            "array('i', [0, 1, 2])\n",
            "array('i', [3, 4, 5])\n",
            "array('i', [6, 7, 8])\n"
          ]
        }
      ]
    },
    {
      "cell_type": "markdown",
      "source": [
        "-----------\n",
        "-----------\n",
        "### EJERCICIO 5\n",
        "\n",
        "5. Crear un arreglo de números aleatorios de longitud 100 y obtener su media y varianza"
      ],
      "metadata": {
        "id": "8X_sX9JRILnA"
      }
    },
    {
      "cell_type": "code",
      "source": [
        "# Usando Np\n",
        "#import numpy as np\n",
        "\n",
        "arreglo = np.random.random(5)\n",
        "print(\"El arreglo:\", arreglo)\n"
      ],
      "metadata": {
        "colab": {
          "base_uri": "https://localhost:8080/"
        },
        "id": "jJnthlLZLbBE",
        "outputId": "223b26e3-dbca-4674-b06f-b007457cdda5"
      },
      "execution_count": 43,
      "outputs": [
        {
          "output_type": "stream",
          "name": "stdout",
          "text": [
            "El arreglo: [0.91100629 0.61671943 0.60678774 0.76002746 0.75812933]\n"
          ]
        }
      ]
    },
    {
      "cell_type": "code",
      "source": [
        "# Media\n",
        "media = np.mean(arreglo)\n",
        "print(\"Media:\", media, \"ese es el valor\")\n"
      ],
      "metadata": {
        "colab": {
          "base_uri": "https://localhost:8080/"
        },
        "id": "f4fDQpsELmSd",
        "outputId": "2433d540-e926-482b-cb92-939406325e1a"
      },
      "execution_count": 51,
      "outputs": [
        {
          "output_type": "stream",
          "name": "stdout",
          "text": [
            "Media: 0.7305340510764098 ese es el valor\n"
          ]
        }
      ]
    },
    {
      "cell_type": "code",
      "source": [
        "# Varianza\n",
        "varianza = np.var(arreglo)\n",
        "varianza\n"
      ],
      "metadata": {
        "colab": {
          "base_uri": "https://localhost:8080/"
        },
        "id": "QH4VmmfZLsBU",
        "outputId": "6cd226da-1ab1-4c94-9441-958ec569cb58"
      },
      "execution_count": 50,
      "outputs": [
        {
          "output_type": "execute_result",
          "data": {
            "text/plain": [
              "0.012493701594087234"
            ]
          },
          "metadata": {},
          "execution_count": 50
        }
      ]
    },
    {
      "cell_type": "code",
      "source": [
        "import random\n",
        "\n",
        "# Arregleo aleatorio\n",
        "arreglo = [random.random() for _ in range(100)]\n",
        "\n",
        "# Media\n",
        "media = sum(arreglo) / len(arreglo)\n",
        "\n",
        "# Varianza\n",
        "media_cuadrada = sum(x ** 2 for x in arreglo) / len(arreglo)\n",
        "varianza = media_cuadrada - media ** 2\n",
        "\n",
        "# Ver resultado\n",
        "print(\"Arreglo de números aleatorios:\", arreglo)\n",
        "print(\"Media:\", media)\n",
        "print(\"Varianza:\", varianza)\n"
      ],
      "metadata": {
        "colab": {
          "base_uri": "https://localhost:8080/"
        },
        "id": "CyHmD9TnL2cc",
        "outputId": "9211431c-6a77-4e06-e2ad-864b792d273a"
      },
      "execution_count": null,
      "outputs": [
        {
          "output_type": "stream",
          "name": "stdout",
          "text": [
            "Arreglo de números aleatorios: [0.9992254295057238, 0.28101210881542327, 0.2916927020167479, 0.7000521424164173, 0.8708553668004182, 0.5872957185987951, 0.5125938689393398, 0.5584225741093316, 0.595534143896906, 0.7141357769478508, 0.2026477702516487, 0.4534551251754889, 0.6080519101009543, 0.19063051664403696, 0.8057240279373329, 0.414409830093716, 0.36377630971602104, 0.40125250601826945, 0.8588239629642326, 0.3386562335447054, 0.8454077256636823, 0.16104982353917474, 0.1949025939455803, 0.5000066471180231, 0.1717762200323083, 0.6235401418553376, 0.3054461027379255, 0.45953355529302176, 0.9464943757427592, 0.39785681016737173, 0.7700990103512747, 0.10424670360662114, 0.253718680826438, 0.37378414551107364, 0.7008332014883625, 0.5885022645797324, 0.22756740501875516, 0.03958874870619533, 0.07403292452523114, 0.9150538283034785, 0.8454451018208208, 0.08750621867874975, 0.9286055449722961, 0.9934637360957946, 0.8664180652452286, 0.667579346035923, 0.15090026072196483, 0.5363943912670458, 0.6546727195946583, 0.67654371465633, 0.9431634137409374, 0.5535303290756908, 0.9375022479893022, 0.8228930509499414, 0.369932177000842, 0.2216309310329584, 0.7698780297460293, 0.7162658447000068, 0.2573808991715144, 0.5996715186987056, 0.7047355858045938, 0.7012721146971909, 0.22294660461334148, 0.14986219594344308, 0.529735754299153, 0.32780406395700323, 0.7037577658839146, 0.10050524034039454, 0.5027810210856735, 0.20912271981900055, 0.11320826635344972, 0.5007056205905125, 0.06797942780209465, 0.3273459743373046, 0.09292283696173176, 0.6115078379751943, 0.7107447824190399, 0.5561114623451754, 0.9903633078279233, 0.7768735424524181, 0.3728992217960879, 0.9512125884619522, 0.15864303578642536, 0.5369519469771952, 0.04616185110171844, 0.8300790055021416, 0.5846042361028299, 0.8822168755334386, 0.3939571435573186, 0.8590165316119622, 0.42930980381016615, 0.46820398328950597, 0.08913986698774068, 0.15039193963312358, 0.8946005158596558, 0.01435066467666457, 0.6802968076556282, 0.6753624350478747, 0.9403034406978291, 0.7224829294858082]\n",
            "Media: 0.5158153742378405\n",
            "Varianza: 0.08018103924226216\n"
          ]
        }
      ]
    },
    {
      "cell_type": "code",
      "source": [
        "import random\n",
        "import statistics\n",
        "\n",
        "# Arreglo\n",
        "arreglo = [random.random() for _ in range(100)]\n",
        "# random.random(): función que devuelve un número aleatorio entre 0 y 1 (incluyendo 0 pero excluyendo 1)\n",
        "# for _ in range(100): bucle for - se ejecuta 100 veces. Se genera un número aleatorio usando random.random() y se agrega a la lista\n",
        "# no se necesita el nombre, por eso se puede usar _\n",
        "\n",
        "# Media y varianza\n",
        "media = statistics.mean(arreglo)\n",
        "varianza = statistics.variance(arreglo)\n",
        "\n",
        "# Resultados\n",
        "print(\"Arreglo de números aleatorios:\", arreglo)\n",
        "print(\"Media:\", media)\n",
        "print(\"Varianza:\", varianza)\n"
      ],
      "metadata": {
        "colab": {
          "base_uri": "https://localhost:8080/"
        },
        "id": "LIaNoiJ2MEZV",
        "outputId": "eaef7555-38e5-4be6-e3f2-ab9db1fb32ed"
      },
      "execution_count": null,
      "outputs": [
        {
          "output_type": "stream",
          "name": "stdout",
          "text": [
            "Arreglo de números aleatorios: [0.7730763333468915, 0.3269144180264373, 0.4432355546237726, 0.5834896073592267, 0.5997295269143205, 0.3892727760688547, 0.05387662930893744, 0.12591892014903594, 0.5070178350302599, 0.49372953153876, 0.010335504692087993, 0.4776692845917835, 0.13654635677622362, 0.46621866772203957, 0.05230124432405914, 0.10833774739925561, 0.17940920712051278, 0.6146495233239445, 0.20495047397888544, 0.7386325567259853, 0.7489089959137637, 0.11413944164725953, 0.7017010874034582, 0.09738845572696331, 0.39661047158290264, 0.5757260521124986, 0.8762750034745429, 0.5953480973965293, 0.9617800611870535, 0.23388970002577436, 0.4757554587431473, 0.3829862683234003, 0.4788286293955917, 0.23733872419467217, 0.5479414143722148, 0.6397297867295982, 0.5119594815112392, 0.6959498964264296, 0.2840291051047086, 0.16446691717835438, 0.7325975203039085, 0.8399797446256724, 0.3735987403546822, 0.7588602364195834, 0.8508406097093592, 0.380701935502874, 0.7960919158525731, 0.41803934607033943, 0.5808775574825715, 0.1970003301074008, 0.520818400296965, 0.5687453547351936, 0.9595469572262321, 0.35493914866247034, 0.4265114454891432, 0.8645594190559602, 0.8638546477045952, 0.6984402108153894, 0.43023074812614326, 0.01596791300465894, 0.07128950975785708, 0.12155827541875064, 0.11022248500471066, 0.3627980550356087, 0.39201820987773073, 0.018693910702597405, 0.3829001475615259, 0.6138734391292988, 0.9766913959882244, 0.8868052295096411, 0.7987027003059449, 0.37134442908876286, 0.11493987573894415, 0.10826022169430916, 0.5322388742823162, 0.10724862123787604, 0.6070348702179804, 0.005312144934165763, 0.2631410577198223, 0.67824180382854, 0.6613364353574718, 0.7249491088300376, 0.999031133911855, 0.8125183295853099, 0.954693686466664, 0.1362399529253141, 0.8879358988246323, 0.06961688777103847, 0.8090010731473019, 0.5423768461600297, 0.2953622727320838, 0.3428332222977122, 0.579434847172554, 0.810089482056147, 0.5711827221497382, 0.30834660972755634, 0.35930193008743994, 0.1443631808741488, 0.6544314670443951, 0.46805253914266887]\n",
            "Media: 0.47292679812315797\n",
            "Varianza: 0.07632544948403605\n"
          ]
        }
      ]
    },
    {
      "cell_type": "code",
      "source": [
        "import numpy as np\n",
        "from scipy import stats\n",
        "\n",
        "arreglo = stats.norm.rvs(size=100)\n",
        "\n",
        "media = np.mean(arreglo)\n",
        "varianza = np.var(arreglo)\n",
        "\n",
        "print(\"Arreglo de números aleatorios:\", arreglo)\n",
        "print(\"Media:\", media)\n",
        "print(\"Varianza:\", varianza)\n"
      ],
      "metadata": {
        "colab": {
          "base_uri": "https://localhost:8080/"
        },
        "id": "783M9BLmMPOm",
        "outputId": "704d0d44-ed28-4039-a8b5-11d79c0773c1"
      },
      "execution_count": null,
      "outputs": [
        {
          "output_type": "stream",
          "name": "stdout",
          "text": [
            "Arreglo de números aleatorios: [ 0.23815685  1.63679201  0.23463216 -0.32522062  0.96933103 -0.92755985\n",
            "  0.70834008 -0.10404761 -0.53087771 -0.27741597 -1.24830976  0.252775\n",
            "  1.43828227  0.02255792 -0.58801891  3.2028218  -0.50811744 -0.48109667\n",
            "  1.67905533  1.36851601  0.01064121  2.25427404 -0.65852722 -1.13931462\n",
            "  1.04336629 -0.32146169  0.95374996  1.30981477 -0.10066883  0.02175611\n",
            "  0.14095439 -1.64064547  0.73883081 -1.5693812  -0.16217007 -1.18393817\n",
            " -1.04985468  0.29670741 -1.22033209 -0.29870793  0.60357772  2.45859646\n",
            " -0.83058084  0.31798431  0.10781257 -1.61246119  0.02352954 -0.03711819\n",
            " -1.12974833  0.62318108 -1.19297253  0.7192971  -2.42403975 -1.33654562\n",
            " -1.71207711 -0.21193402 -0.65550527 -0.52023305 -0.5784969  -0.60948669\n",
            " -0.97649025  1.2198581  -0.20753995 -0.5844987   0.06410299 -0.5574203\n",
            " -1.19054783 -0.42812512  2.07714953  0.17337796 -0.06247245  0.65758161\n",
            "  0.73892801  0.13735595  0.00960403 -0.48473426  1.87080797  1.46149416\n",
            " -0.20387865  1.85774405  1.81809549  1.47829897 -0.0148417   0.34175887\n",
            " -1.3127075   3.49056363 -0.80967453  0.51853532  0.08331477  0.23413111\n",
            "  0.21343882 -0.97276319  0.63754488 -0.2305028   1.02075601  0.42912179\n",
            "  0.48745363 -0.82209198  0.05565951 -1.5484101 ]\n",
            "Media: 0.06858446063712807\n",
            "Varianza: 1.165409293960201\n"
          ]
        }
      ]
    },
    {
      "cell_type": "markdown",
      "source": [
        "-----------\n",
        "-----------\n",
        "### EJERCICIO 6\n",
        "\n",
        "6. Calcular la media de un arreglo usando np.sum"
      ],
      "metadata": {
        "id": "JISM_5bfLaQT"
      }
    },
    {
      "cell_type": "code",
      "source": [
        "#import numpy as np\n",
        "\n",
        "arreglo = np.random.random(10)\n",
        "\n",
        "suma = np.sum(arreglo) # np.sum\n",
        "tamano = np.size(arreglo) # size\n",
        "media = suma / tamano\n",
        "\n",
        "# Ver resultado\n",
        "print(\"Media del arreglo:\", media)\n",
        "print (arreglo)\n",
        "print (suma)\n",
        "print (tamano)\n"
      ],
      "metadata": {
        "colab": {
          "base_uri": "https://localhost:8080/"
        },
        "id": "2W4zAKPpH7zz",
        "outputId": "750662a3-7238-4ae7-ac00-df7b9761a27e"
      },
      "execution_count": 56,
      "outputs": [
        {
          "output_type": "stream",
          "name": "stdout",
          "text": [
            "Media del arreglo: 0.5735571478265957\n",
            "[0.73277037 0.73556212 0.35307804 0.61954798 0.26294026 0.60332925\n",
            " 0.2665036  0.55362396 0.93544135 0.67277454]\n",
            "5.735571478265958\n",
            "10\n"
          ]
        }
      ]
    },
    {
      "cell_type": "code",
      "source": [
        "# sin usar np.sum\n",
        "import numpy as np\n",
        "\n",
        "arreglo = np.random.random(100)\n",
        "\n",
        "media = np.mean(arreglo)\n",
        "\n",
        "print(\"Media del arreglo:\", media)\n"
      ],
      "metadata": {
        "colab": {
          "base_uri": "https://localhost:8080/"
        },
        "id": "m10NmLIeNwQT",
        "outputId": "4cb7af25-252b-4de0-d9ef-9f1a9d5a70f7"
      },
      "execution_count": null,
      "outputs": [
        {
          "output_type": "stream",
          "name": "stdout",
          "text": [
            "Media del arreglo: 0.45750895347660403\n"
          ]
        }
      ]
    },
    {
      "cell_type": "code",
      "source": [
        "import numpy as np\n",
        "\n",
        "arreglo = np.random.random(100)\n",
        "\n",
        "suma = np.sum(arreglo)\n",
        "longitud = arreglo.shape[0] # shape\n",
        "media = suma / longitud\n",
        "\n",
        "print(\"Media del arreglo:\", media)\n"
      ],
      "metadata": {
        "colab": {
          "base_uri": "https://localhost:8080/"
        },
        "id": "2qNz9YINN-2n",
        "outputId": "068e4bab-a734-48e3-c744-76f9363df75c"
      },
      "execution_count": null,
      "outputs": [
        {
          "output_type": "stream",
          "name": "stdout",
          "text": [
            "Media del arreglo: 0.5188153708649537\n"
          ]
        }
      ]
    },
    {
      "cell_type": "code",
      "source": [
        "import numpy as np\n",
        "\n",
        "arreglo = np.random.random((10, 10)) #2d: 10x10\n",
        "\n",
        "suma = np.sum(arreglo)\n",
        "tamano = np.size(arreglo) #size\n",
        "media = suma / tamano\n",
        "\n",
        "print(\"Media del arreglo:\", media)\n"
      ],
      "metadata": {
        "colab": {
          "base_uri": "https://localhost:8080/"
        },
        "id": "HSf5ISU1OMDV",
        "outputId": "443e7e8c-e2a2-47a5-9386-aa65fb130cfc"
      },
      "execution_count": null,
      "outputs": [
        {
          "output_type": "stream",
          "name": "stdout",
          "text": [
            "Media del arreglo: 0.4481746854813853\n"
          ]
        }
      ]
    },
    {
      "cell_type": "markdown",
      "source": [
        "-----------\n",
        "-----------\n",
        "### EJERCICIO 7\n",
        "\n",
        "7. Calcular la varianza de un arreglo usando np.sum y np.mean"
      ],
      "metadata": {
        "id": "toQBxhzhNZJs"
      }
    },
    {
      "cell_type": "code",
      "source": [
        "import numpy as np\n",
        "\n",
        "arreglo = np.random.random(100)\n",
        "\n",
        "media = np.mean(arreglo)\n",
        "suma_cuadrados_diferencias = np.sum((arreglo - media) ** 2)\n",
        "varianza = suma_cuadrados_diferencias / len(arreglo)\n",
        "\n",
        "print(\"Varianza del arreglo:\", varianza)\n"
      ],
      "metadata": {
        "colab": {
          "base_uri": "https://localhost:8080/"
        },
        "id": "d8zH6SFbOrHj",
        "outputId": "51663042-a12b-4551-aa52-b3ffa8394d11"
      },
      "execution_count": null,
      "outputs": [
        {
          "output_type": "stream",
          "name": "stdout",
          "text": [
            "Varianza del arreglo: 0.10025684956534466\n"
          ]
        }
      ]
    },
    {
      "cell_type": "code",
      "source": [
        "import numpy as np\n",
        "\n",
        "arreglo = np.random.random(100)\n",
        "\n",
        "media = np.mean(arreglo)\n",
        "suma_cuadrados_diferencias = np.sum((arreglo - media) ** 2)\n",
        "varianza_muestra = suma_cuadrados_diferencias / (len(arreglo) - 1) # estimación sin sesgo de la varianza de la muestra\n",
        "\n",
        "print(\"Varianza de la muestra del arreglo:\", varianza_muestra)\n"
      ],
      "metadata": {
        "colab": {
          "base_uri": "https://localhost:8080/"
        },
        "id": "k75A2ZALO6V-",
        "outputId": "4f1a9bdc-9726-49c9-cd80-edeacfaafba8"
      },
      "execution_count": null,
      "outputs": [
        {
          "output_type": "stream",
          "name": "stdout",
          "text": [
            "Varianza de la muestra del arreglo: 0.07532203235325068\n"
          ]
        }
      ]
    },
    {
      "cell_type": "code",
      "source": [
        "import numpy as np\n",
        "\n",
        "arreglo = np.random.random(100)\n",
        "pesos = np.random.random(100)\n",
        "\n",
        "media_ponderada = np.sum(arreglo * pesos) / np.sum(pesos)\n",
        "\n",
        "suma_cuadrados_diferencias_ponderada = np.sum(pesos * (arreglo - media_ponderada) ** 2)\n",
        "\n",
        "varianza_ponderada = suma_cuadrados_diferencias_ponderada / np.sum(pesos)\n",
        "\n",
        "print(\"Varianza ponderada del arreglo:\", varianza_ponderada)\n"
      ],
      "metadata": {
        "colab": {
          "base_uri": "https://localhost:8080/"
        },
        "id": "-I_LbjPtPGJL",
        "outputId": "ee496f37-d528-4170-e467-153f4218393d"
      },
      "execution_count": null,
      "outputs": [
        {
          "output_type": "stream",
          "name": "stdout",
          "text": [
            "Varianza ponderada del arreglo: 0.08145521083151065\n"
          ]
        }
      ]
    },
    {
      "cell_type": "markdown",
      "source": [
        "-----------\n",
        "-----------\n",
        "### EJERCICIO 8\n",
        "\n",
        "8. Crear un array de números aleatorios usando np.random.randn."
      ],
      "metadata": {
        "id": "T5XxiEnxOnkl"
      }
    },
    {
      "cell_type": "code",
      "source": [
        "import numpy as np\n",
        "\n",
        "arreglo = np.random.randn(10)\n",
        "print(\"Array unidimensional:\", arreglo)\n"
      ],
      "metadata": {
        "colab": {
          "base_uri": "https://localhost:8080/"
        },
        "id": "L5ip1ZHZPtpp",
        "outputId": "5a2eda05-ef22-4f81-ca0a-506eb7cf25d7"
      },
      "execution_count": null,
      "outputs": [
        {
          "output_type": "stream",
          "name": "stdout",
          "text": [
            "Array unidimensional: [-0.94280963 -0.84884857 -0.19564391  1.77704041  0.33619667  0.33428049\n",
            "  0.17673161  0.98782943  2.03539633  0.23870928]\n"
          ]
        }
      ]
    },
    {
      "cell_type": "code",
      "source": [
        "import numpy as np\n",
        "\n",
        "matriz = np.random.randn(3, 3)\n",
        "\n",
        "print(\"Array bidimensional (3x3):\")\n",
        "print(matriz)\n"
      ],
      "metadata": {
        "colab": {
          "base_uri": "https://localhost:8080/"
        },
        "id": "1SmCBimsP1-1",
        "outputId": "441ed1fc-4506-44d8-b30c-9e01a2cee3c0"
      },
      "execution_count": null,
      "outputs": [
        {
          "output_type": "stream",
          "name": "stdout",
          "text": [
            "Array bidimensional (3x3):\n",
            "[[-0.42157472 -0.39367397  0.51720271]\n",
            " [ 0.12625266  0.56641679 -0.52882603]\n",
            " [ 0.17815134  0.461321   -0.03814226]]\n"
          ]
        }
      ]
    },
    {
      "cell_type": "code",
      "source": [
        "import numpy as np\n",
        "\n",
        "# Array tridimensional de 2x3x4 números aleatorios de una distribución normal estándar\n",
        "tensor = np.random.randn(2, 3, 4)\n",
        "\n",
        "print(\"Array tridimensional (2x3x4):\")\n",
        "print(tensor)\n"
      ],
      "metadata": {
        "colab": {
          "base_uri": "https://localhost:8080/"
        },
        "id": "jjDAvqthP8vR",
        "outputId": "83ae4bd4-14f0-4cc9-83a4-c7886ca5c0b5"
      },
      "execution_count": null,
      "outputs": [
        {
          "output_type": "stream",
          "name": "stdout",
          "text": [
            "Array tridimensional (2x3x4):\n",
            "[[[-1.15406291 -0.07475927  0.90204572  2.75423789]\n",
            "  [-1.75006764  1.99496454  0.45581366 -1.16222215]\n",
            "  [ 0.95565628  0.98375304  0.73824164 -1.31898615]]\n",
            "\n",
            " [[-0.1100303   0.64104062  0.14232338  0.83069197]\n",
            "  [-0.6611267  -1.69780731 -0.5128665   0.91883533]\n",
            "  [ 0.65412437  0.45047526  0.67741978  1.02454402]]]\n"
          ]
        }
      ]
    },
    {
      "cell_type": "code",
      "source": [
        "import numpy as np\n",
        "\n",
        "# Array de 4 dimensiones (2, 3, 4, 5) de números aleatorios de una distribución normal estándar\n",
        "array_4d = np.random.randn(2, 3, 4, 5)\n",
        "\n",
        "print(\"Array de 4 dimensiones (2x3x4x5):\")\n",
        "print(array_4d)\n"
      ],
      "metadata": {
        "id": "ZsakzmpxQEiL",
        "outputId": "fddedfad-f304-414a-acfb-4da061491c60",
        "colab": {
          "base_uri": "https://localhost:8080/"
        }
      },
      "execution_count": null,
      "outputs": [
        {
          "output_type": "stream",
          "name": "stdout",
          "text": [
            "Array de 4 dimensiones (2x3x4x5):\n",
            "[[[[ 9.16375256e-02  1.34304099e-02 -4.66067084e-02 -1.65318007e+00\n",
            "     9.12925212e-01]\n",
            "   [-5.67840553e-01  8.81735935e-02 -5.23771502e-01  1.05754915e+00\n",
            "    -3.61260108e-01]\n",
            "   [ 3.32904118e-01 -1.13866889e+00  8.75427143e-01  1.29087129e+00\n",
            "     1.48201047e-01]\n",
            "   [-3.97721910e-02  9.36896650e-01 -4.40517744e-01  2.31773314e-01\n",
            "     4.31465656e-01]]\n",
            "\n",
            "  [[ 8.33875741e-01 -1.29236509e+00  2.13629124e+00  1.21059922e+00\n",
            "    -4.92034158e-01]\n",
            "   [-8.12583757e-01  1.89149427e-01  1.34975819e+00  2.06482185e-02\n",
            "    -1.37790287e+00]\n",
            "   [-2.14962086e+00  7.72406266e-03  2.03598610e-01  1.90075709e+00\n",
            "    -5.16861484e-01]\n",
            "   [ 1.08050499e+00 -1.12189559e+00  2.28917550e+00  4.42870641e-01\n",
            "     8.55984650e-01]]\n",
            "\n",
            "  [[ 5.29373244e-01 -1.28707292e+00  1.92296239e+00  9.42256483e-01\n",
            "    -1.00123832e+00]\n",
            "   [-9.80332027e-01 -5.32562507e-01 -1.62758493e+00 -1.02584575e+00\n",
            "    -3.41754385e-01]\n",
            "   [-1.09910311e+00 -1.38893013e+00  9.68993717e-01  3.11976424e-01\n",
            "    -8.05902444e-01]\n",
            "   [ 4.19045452e-01 -3.30467776e-03 -6.15534505e-01 -3.30576647e-01\n",
            "    -4.18140878e-01]]]\n",
            "\n",
            "\n",
            " [[[ 7.47799826e-01  3.95402047e-01 -3.22284918e-01 -1.12836971e+00\n",
            "    -1.06846694e+00]\n",
            "   [-4.04955830e-02  6.17661844e-01  4.48221799e-01 -1.45589309e-01\n",
            "     1.19020127e+00]\n",
            "   [-2.93631311e-02  7.50345005e-01 -4.30444768e-01  5.32802913e-01\n",
            "     1.51768680e-01]\n",
            "   [-4.46660622e-01 -4.43698624e-04 -7.01369867e-01  1.65517051e-01\n",
            "    -1.48840210e+00]]\n",
            "\n",
            "  [[-1.97125272e+00 -1.69359299e+00  7.37025223e-01  1.52268187e+00\n",
            "     1.45810687e+00]\n",
            "   [-6.79683817e-01  7.83686446e-01 -1.88123761e+00  8.93701697e-02\n",
            "    -9.13950803e-01]\n",
            "   [-1.93005831e+00  2.34885925e-01 -6.96944541e-01  3.33380992e-02\n",
            "     2.09802355e-01]\n",
            "   [-1.04378571e-03 -8.35150180e-01  8.07578234e-01 -3.56919375e-01\n",
            "    -9.70627372e-01]]\n",
            "\n",
            "  [[ 1.19814324e+00  8.76354762e-01  4.98872602e-01  8.02321544e-02\n",
            "    -9.43727675e-01]\n",
            "   [-1.05401021e+00 -6.19492399e-01 -1.78014332e+00  3.33297702e-01\n",
            "     1.82285564e-01]\n",
            "   [ 9.41280286e-01  6.29970074e-02  1.10098504e+00 -3.36068207e-03\n",
            "     1.64062029e-01]\n",
            "   [ 1.24710567e+00  6.98028141e-01 -1.16829988e+00  2.39082291e+00\n",
            "     1.32052997e-01]]]]\n"
          ]
        }
      ]
    }
  ]
}